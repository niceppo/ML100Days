{
 "cells": [
  {
   "cell_type": "code",
   "execution_count": null,
   "metadata": {},
   "outputs": [],
   "source": [
    "Sep-28k: A Dataset for Stuttering Event Detection from Podcasts with People Who Stutter\n",
    "    \n",
    "    1目標：改善自動偵測口吃系統的偵測能力\n",
    "    2方法：增加28k已分類之口吃片段當作training dataset\n",
    "    3資料來源：Podcasts(Spe-28k)"
   ]
  }
 ],
 "metadata": {
  "kernelspec": {
   "display_name": "Python 3",
   "language": "python",
   "name": "python3"
  },
  "language_info": {
   "codemirror_mode": {
    "name": "ipython",
    "version": 3
   },
   "file_extension": ".py",
   "mimetype": "text/x-python",
   "name": "python",
   "nbconvert_exporter": "python",
   "pygments_lexer": "ipython3",
   "version": "3.8.5"
  }
 },
 "nbformat": 4,
 "nbformat_minor": 4
}
