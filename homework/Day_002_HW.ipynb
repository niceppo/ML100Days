{
 "cells": [
  {
   "cell_type": "code",
   "execution_count": null,
   "metadata": {},
   "outputs": [],
   "source": [
    "醫療診斷之判斷\n",
    "未知病因通常仰賴醫生經驗診斷\n",
    "若可以由機器學習去知道如何判斷各項生理數據及影像，更可以幫助醫生做出正確之判斷，尤其是可能平時易被忽略之細節，或是不常見之疾病及症狀。\n",
    "另外醫生分科明確，藉由機器學習之輔助，則可以知道是否有其他科別之可能潛在疾病。"
   ]
  }
 ],
 "metadata": {
  "kernelspec": {
   "display_name": "Python 3",
   "language": "python",
   "name": "python3"
  },
  "language_info": {
   "codemirror_mode": {
    "name": "ipython",
    "version": 3
   },
   "file_extension": ".py",
   "mimetype": "text/x-python",
   "name": "python",
   "nbconvert_exporter": "python",
   "pygments_lexer": "ipython3",
   "version": "3.8.5"
  }
 },
 "nbformat": 4,
 "nbformat_minor": 4
}
